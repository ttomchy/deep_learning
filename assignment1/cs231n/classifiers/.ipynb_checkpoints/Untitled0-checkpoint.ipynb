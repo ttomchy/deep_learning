{
 "metadata": {
  "name": "",
  "signature": "sha256:6ac93ffdf91309d92b38406348f8de5d4832279d3116b27ed74f99f77387c97f"
 },
 "nbformat": 3,
 "nbformat_minor": 0,
 "worksheets": []
}